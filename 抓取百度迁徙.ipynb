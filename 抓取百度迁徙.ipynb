{
 "cells": [
  {
   "cell_type": "code",
   "execution_count": 2,
   "metadata": {},
   "outputs": [],
   "source": [
    "import pandas as pd\n",
    "import numpy as np\n",
    "import geopandas as gpd\n",
    "import transbigdata as tbd\n",
    "import warnings\n",
    "warnings.filterwarnings('ignore')"
   ]
  },
  {
   "cell_type": "code",
   "execution_count": null,
   "metadata": {},
   "outputs": [],
   "source": [
    "#获取行政区划\n",
    "admin,district = tbd.getadmin(\n",
    "    '广东省', \n",
    "    ak='169521e66b7a30adcaa36ae0a9c04c8d',\n",
    "    jscode = '2cdd826ad4099fae293dbabf3657c78d',subdistricts = True)\n",
    "admin.plot()"
   ]
  },
  {
   "cell_type": "code",
   "execution_count": null,
   "metadata": {},
   "outputs": [],
   "source": [
    "import urllib\n",
    "from urllib import request\n",
    "import json\n",
    "\n",
    "def get_migration(move_type = 'move_in',date = '20230116',city = '440500'):\n",
    "\n",
    "    url = 'https://huiyan.baidu.com/migration/cityrank.jsonp?dt=city&id='+city+'&type='+move_type+'&date='+date\n",
    "    request = urllib.request.Request(url)\n",
    "    response = urllib.request.urlopen(request)\n",
    "    webpage = response.read()\n",
    "    result = json.loads(webpage.decode('utf8','ignore')[4:-1])\n",
    "    return pd.DataFrame(result['data']['list'])\n",
    "\n",
    "def get_index(move_type = 'move_in',date = '20230116',city = '440500'):\n",
    "    url = 'http://huiyan.baidu.com/migration/historycurve.jsonp?dt=city&id='+city+'&type='+move_type\n",
    "    request = urllib.request.Request(url)\n",
    "    response = urllib.request.urlopen(request)\n",
    "    webpage = response.read()\n",
    "    result = json.loads(webpage.decode('utf8','ignore')[4:-1])\n",
    "    return result['data']['list'][date]\n",
    "\n",
    "def get_data(date):\n",
    "\n",
    "    guangdong_district = district[['name','adcode']]\n",
    "    def cal_od(r):\n",
    "        cityname = r['name']\n",
    "        citycode = r['adcode']\n",
    "        print('get ',cityname,date)\n",
    "        move = get_migration('move_in',date,citycode)\n",
    "        move.columns = ['O','O_province','prop']\n",
    "        move['D'] = cityname\n",
    "        move['index'] = get_index('move_in',date,citycode)\n",
    "        move['value'] = move['prop']*move['index']/100\n",
    "        return move\n",
    "    result = guangdong_district.apply(lambda r:cal_od(r),axis=1)\n",
    "    result = pd.concat(list(result))\n",
    "    result['date'] = date\n",
    "\n",
    "    district['lon'] = district['center'].apply(lambda x:float(x.split(',')[0]))\n",
    "    district['lat'] = district['center'].apply(lambda x:float(x.split(',')[1]))\n",
    "    o = district[['name','lon','lat']]\n",
    "    o.columns = ['O','slon','slat']\n",
    "    d = district[['name','lon','lat']]\n",
    "    d.columns = ['D','elon','elat']\n",
    "    od = pd.merge(pd.merge(result,o),d)\n",
    "    print('get data success')\n",
    "    return od"
   ]
  },
  {
   "cell_type": "code",
   "execution_count": null,
   "metadata": {},
   "outputs": [],
   "source": [
    "#dates =[(pd.to_datetime('20230125')+pd.Timedelta(days=i)).strftime('%Y%m%d') for i in range(30)]\n",
    "dates = ['20230125', '20230126', '20230127', '20230128', '20230129', '20230130', '20230131', '20230201', '20230202', '20230203', '20230204', '20230205', '20230206', '20230207', '20230208', '20230209', '20230210', '20230211', '20230212', '20230213', '20230214', '20230215', '20230216']\n",
    "for date in dates:\n",
    "    # 存储数据\n",
    "    od = get_data(date)\n",
    "    od.to_csv('od/od'+date+'.csv',index=False)"
   ]
  }
 ],
 "metadata": {
  "kernelspec": {
   "display_name": "py38_native",
   "language": "python",
   "name": "python3"
  },
  "language_info": {
   "codemirror_mode": {
    "name": "ipython",
    "version": 3
   },
   "file_extension": ".py",
   "mimetype": "text/x-python",
   "name": "python",
   "nbconvert_exporter": "python",
   "pygments_lexer": "ipython3",
   "version": "3.9.8"
  },
  "orig_nbformat": 4
 },
 "nbformat": 4,
 "nbformat_minor": 2
}
